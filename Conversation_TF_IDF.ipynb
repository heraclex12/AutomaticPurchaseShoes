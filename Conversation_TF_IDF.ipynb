{
  "nbformat": 4,
  "nbformat_minor": 0,
  "metadata": {
    "colab": {
      "name": "Conversation TF-IDF",
      "provenance": [],
      "collapsed_sections": [],
      "toc_visible": true,
      "mount_file_id": "1aZouxxaGmb6qCMsCq_klaeuS4yfmto81",
      "authorship_tag": "ABX9TyNGLx4A/ymFUamLoAFTxZcU",
      "include_colab_link": true
    },
    "kernelspec": {
      "name": "python3",
      "display_name": "Python 3"
    }
  },
  "cells": [
    {
      "cell_type": "markdown",
      "metadata": {
        "id": "view-in-github",
        "colab_type": "text"
      },
      "source": [
        "<a href=\"https://colab.research.google.com/github/heraclex12/AutomaticPurchaseShoes/blob/master/Conversation_TF_IDF.ipynb\" target=\"_parent\"><img src=\"https://colab.research.google.com/assets/colab-badge.svg\" alt=\"Open In Colab\"/></a>"
      ]
    },
    {
      "cell_type": "code",
      "metadata": {
        "id": "-z6GTbRnr9Uf",
        "outputId": "badc05bb-1c59-4c34-de26-adcdeaf05491",
        "colab": {
          "base_uri": "https://localhost:8080/"
        }
      },
      "source": [
        "!pip3 install vncorenlp"
      ],
      "execution_count": 1,
      "outputs": [
        {
          "output_type": "stream",
          "text": [
            "Collecting vncorenlp\n",
            "\u001b[?25l  Downloading https://files.pythonhosted.org/packages/71/c2/96a60cf75421ecc740829fa920c617b3dd7fa6791e17554e7c6f3e7d7fca/vncorenlp-1.0.3.tar.gz (2.6MB)\n",
            "\u001b[K     |████████████████████████████████| 2.7MB 2.7MB/s \n",
            "\u001b[?25hRequirement already satisfied: requests in /usr/local/lib/python3.6/dist-packages (from vncorenlp) (2.23.0)\n",
            "Requirement already satisfied: urllib3!=1.25.0,!=1.25.1,<1.26,>=1.21.1 in /usr/local/lib/python3.6/dist-packages (from requests->vncorenlp) (1.24.3)\n",
            "Requirement already satisfied: chardet<4,>=3.0.2 in /usr/local/lib/python3.6/dist-packages (from requests->vncorenlp) (3.0.4)\n",
            "Requirement already satisfied: idna<3,>=2.5 in /usr/local/lib/python3.6/dist-packages (from requests->vncorenlp) (2.10)\n",
            "Requirement already satisfied: certifi>=2017.4.17 in /usr/local/lib/python3.6/dist-packages (from requests->vncorenlp) (2020.6.20)\n",
            "Building wheels for collected packages: vncorenlp\n",
            "  Building wheel for vncorenlp (setup.py) ... \u001b[?25l\u001b[?25hdone\n",
            "  Created wheel for vncorenlp: filename=vncorenlp-1.0.3-cp36-none-any.whl size=2645934 sha256=5db9def5ac1addceaaca5c5734e49f8d5572e94d677d1e09faba8978a77e1661\n",
            "  Stored in directory: /root/.cache/pip/wheels/09/54/8b/043667de6091d06a381d7745f44174504a9a4a56ecc9380c54\n",
            "Successfully built vncorenlp\n",
            "Installing collected packages: vncorenlp\n",
            "Successfully installed vncorenlp-1.0.3\n"
          ],
          "name": "stdout"
        }
      ]
    },
    {
      "cell_type": "code",
      "metadata": {
        "id": "wi9O-ZQ9sHyv"
      },
      "source": [
        "import os\n",
        "os.chdir('drive/My Drive/vncorenlp/bert_models')\n",
        "\n",
        "from sklearn.metrics import accuracy_score, f1_score\n",
        "from sklearn.model_selection import train_test_split\n",
        "from sklearn.linear_model import LogisticRegression\n",
        "from sklearn.svm import SVC\n",
        "from sklearn.model_selection import StratifiedKFold, StratifiedShuffleSplit\n",
        "from vncorenlp import VnCoreNLP\n",
        "from sklearn.base import BaseEstimator, TransformerMixin\n",
        "from sklearn.feature_extraction.text import TfidfTransformer, CountVectorizer, TfidfVectorizer\n",
        "from sklearn.pipeline import Pipeline\n",
        "import csv\n",
        "import pandas as pd\n",
        "import numpy as np\n",
        "import warnings\n",
        "warnings.filterwarnings('ignore')\n",
        "from imblearn.over_sampling import SMOTE\n",
        "from sklearn.ensemble import RandomForestClassifier\n",
        "\n",
        "pd.set_option('display.max_colwidth', -1)"
      ],
      "execution_count": 2,
      "outputs": []
    },
    {
      "cell_type": "code",
      "metadata": {
        "id": "_03FnVKXsN5J"
      },
      "source": [
        "df_train = pd.read_csv('../conversation_data/training_set_with_tokenize.csv')\n",
        "\n",
        "df_test = pd.read_csv('../conversation_data/test_set_with_tokenize.csv')"
      ],
      "execution_count": 151,
      "outputs": []
    },
    {
      "cell_type": "code",
      "metadata": {
        "id": "eHxej6W4dbx4",
        "outputId": "c6183bf1-0e48-4595-b59b-7eb7a36463e4",
        "colab": {
          "base_uri": "https://localhost:8080/"
        }
      },
      "source": [
        "def print_qa(df, idx):\n",
        "  question = df.iloc[idx].question\n",
        "  answer = df.iloc[idx].answer\n",
        "  # print(\"is_unsatisfied: \", df.iloc[idx].is_unsatisfied)\n",
        "  print(len(question.split('|||')), len(answer.split('|||')))\n",
        "  print(question.split('|||'))\n",
        "  print(answer.split('|||'))\n",
        "  print(list(zip(question.split('|||'), answer.split('|||'))))\n",
        "\n",
        "\n",
        "\n",
        "print_pair_qa(df_test, 924)"
      ],
      "execution_count": 69,
      "outputs": [
        {
          "output_type": "stream",
          "text": [
            "2 4\n",
            "['mình cần trợ giúp ạ', 'xin chào']\n",
            "['dạ cho em hỏi mình có đang theo dõi chat cùng em không ạ', 'cảm ơn anh chị đã liên hệ với call center em là như hảo em rất sẵn lòng hỗ trợ anh chị ạ anh chị cho em xin biết tên của mình để em tiện xưng hô ạ', 'nếu anh chị đang có việc chưa tiện trao đổi thì anh chị có thể chat với em dịp khác ạ hiện tại em xin phép kết thúc cuộc trò chuyện và phản hồi qua email ạ', 'nếu cần thêm thông tin mình cứ chat tại đây hoặc cập nhật thông tin cần hỗ trợ vào biểu mẫu sau code để bên em có thể nhận được thông tin của anh chị kịp thời ạ']\n",
            "[('mình cần trợ giúp ạ', 'dạ cho em hỏi mình có đang theo dõi chat cùng em không ạ'), ('xin chào', 'cảm ơn anh chị đã liên hệ với call center em là như hảo em rất sẵn lòng hỗ trợ anh chị ạ anh chị cho em xin biết tên của mình để em tiện xưng hô ạ')]\n"
          ],
          "name": "stdout"
        }
      ]
    },
    {
      "cell_type": "code",
      "metadata": {
        "id": "Vtnvqlm9scZY"
      },
      "source": [
        "# def clean_noise(s):\n",
        "#   noise_words = [\n",
        "#                  'hi',\n",
        "#                  'hello',\n",
        "#                  'xin chào',\n",
        "#                  'chào bạn',\n",
        "#                  'alo'\n",
        "#   ]\n",
        "#   if s.count('|||') > 0:\n",
        "#     for n_w in noise_words:\n",
        "#       s = s.replace(n_w, '')\n",
        "#     return s\n",
        "#   else:\n",
        "#     return None\n",
        "\n",
        "\n",
        "# df_train = df_train[df_train.question.apply(clean_noise).notnull()]\n",
        "# train_labels = df_train.is_unsatisfied.apply(lambda y: 1 if y == 'Y' else 0).values\n",
        "# df_train['qa_joined'] = df_train[['question', 'answer']].apply(lambda row: row[0] + \"|||\" + row[1], axis=1)\n",
        "# df_test['qa_joined'] = df_test[['question', 'answer']].apply(lambda row: row[0] + \"|||\" + row[1], axis=1)\n",
        "# data_train = df_train.qa_joined.apply(lambda s: re.sub('[' + string.punctuation + ']', ' ', s)).values\n",
        "# data_test = df_test.qa_joined.apply(lambda s: re.sub('[' + string.punctuation + ']', ' ', s)).values\n",
        "\n",
        "# def transform_text(X):\n",
        "#     conversations = [\". \".join(messages.lower().split('|||')) for messages in X]\n",
        "#     conversations = [\" \".join(\" \".join(sentence) for sentence in tokenizer.tokenize(message)) for message in conversations]\n",
        "#     return conversations\n",
        "\n",
        "# tokenizer = VnCoreNLP('VnCoreNLP-1.1.1.jar', annotators='wseg')\n",
        "# data_train = transform_text(data_train)\n",
        "# data_test = transform_text(data_test)"
      ],
      "execution_count": 92,
      "outputs": []
    },
    {
      "cell_type": "code",
      "metadata": {
        "id": "eodY0YrbLtlP"
      },
      "source": [
        "import re\n",
        "import string\n",
        "\n",
        "\n",
        "train_labels = df_train.is_unsatisfied.apply(lambda y: 1 if y == 'Y' else 0).values\n",
        "data_train_q = df_train.question.apply(lambda s: re.sub('[' + string.punctuation + ']', ' ', s)).values\n",
        "data_test_q = df_test.question.apply(lambda s: re.sub('[' + string.punctuation + ']', ' ', s)).values\n",
        "data_train_a = df_train.answer.apply(lambda s: re.sub('[' + string.punctuation + ']', ' ', s)).values\n",
        "data_test_a = df_test.answer.apply(lambda s: re.sub('[' + string.punctuation + ']', ' ', s)).values\n",
        "\n",
        "def transform_text(X):\n",
        "    conversations = [\". \".join(messages.lower().split('|||')) for messages in X]\n",
        "    conversations = [\" \".join(\" \".join(sentence) for sentence in tokenizer.tokenize(message)) for message in conversations]\n",
        "    return conversations\n",
        "\n",
        "tokenizer = VnCoreNLP('VnCoreNLP-1.1.1.jar', annotators='wseg')\n",
        "data_train_q = transform_text(data_train_q)\n",
        "data_test_q = transform_text(data_test_q)\n",
        "data_train_a = transform_text(data_train_a)\n",
        "data_test_a = transform_text(data_test_a)"
      ],
      "execution_count": 152,
      "outputs": []
    },
    {
      "cell_type": "code",
      "metadata": {
        "id": "HsMX00C4E3Ei"
      },
      "source": [
        "def oversampling_data(features, labels):\n",
        "  '''\n",
        "    Our implementation of oversampling method.\n",
        "  '''\n",
        "  while sum(labels == 0) / sum(labels == 1) > 5.:\n",
        "    features = np.concatenate([features[labels == 1], features])\n",
        "    labels = np.concatenate([labels[labels == 1], labels])\n",
        "\n",
        "  return features, labels\n",
        "\n",
        "\n",
        "# over_features, over_labels = oversampling_data(data_train, train_labels)"
      ],
      "execution_count": 153,
      "outputs": []
    },
    {
      "cell_type": "markdown",
      "metadata": {
        "id": "a4B-8RAXCjFN"
      },
      "source": [
        "#### TF-IDF Transform"
      ]
    },
    {
      "cell_type": "code",
      "metadata": {
        "id": "T0a4g3PPa9t2"
      },
      "source": [
        "vectorize_q = TfidfVectorizer(use_idf=True)\n",
        "\n",
        "train_vector_q = vectorize_q.fit_transform(data_train_q)\n",
        "test_vector_q = vectorize_q.transform(data_test_q)\n",
        "\n",
        "\n",
        "vectorize_a = TfidfVectorizer(use_idf=True)\n",
        "\n",
        "train_vector_a = vectorize_a.fit_transform(data_train_a)\n",
        "test_vector_a = vectorize_a.transform(data_test_a)"
      ],
      "execution_count": 159,
      "outputs": []
    },
    {
      "cell_type": "code",
      "metadata": {
        "id": "TWv4a111ZhLC"
      },
      "source": [
        "import scipy.sparse\n",
        "\n",
        "train_vector = scipy.sparse.hstack([train_vector_q, train_vector_a])\n",
        "test_vector = scipy.sparse.hstack([test_vector_q, test_vector_a])"
      ],
      "execution_count": 160,
      "outputs": []
    },
    {
      "cell_type": "markdown",
      "metadata": {
        "id": "WzAkQyy3CnS8"
      },
      "source": [
        "#### SMOTE Oversampling"
      ]
    },
    {
      "cell_type": "code",
      "metadata": {
        "id": "zZaNW6UmaWTI"
      },
      "source": [
        "smote = SMOTE(random_state=42)\n",
        "\n",
        "over_features, over_labels = smote.fit_resample(train_vector, train_labels)"
      ],
      "execution_count": 161,
      "outputs": []
    },
    {
      "cell_type": "markdown",
      "metadata": {
        "id": "BSuC8kZIBY3j"
      },
      "source": [
        "## RandomForest Model"
      ]
    },
    {
      "cell_type": "code",
      "metadata": {
        "id": "g1dk8QsGbMH-",
        "outputId": "42f7dc8b-7db3-47b6-c28d-3390cfd2f38d",
        "colab": {
          "base_uri": "https://localhost:8080/"
        }
      },
      "source": [
        "rf = RandomForestClassifier(random_state=42)\n",
        "rf.fit(over_features, over_labels)\n",
        "\n",
        "preds = rf.predict(over_features)\n",
        "print('\\nAccuracy: {}\\nF1-score: {}\\n'.format(accuracy_score(preds, over_labels), f1_score(preds, over_labels, labels=[0, 1], pos_label=1)))"
      ],
      "execution_count": 162,
      "outputs": [
        {
          "output_type": "stream",
          "text": [
            "\n",
            "Accuracy: 0.9998338410412628\n",
            "F1-score: 0.9998338318378198\n",
            "\n"
          ],
          "name": "stdout"
        }
      ]
    },
    {
      "cell_type": "markdown",
      "metadata": {
        "id": "mU9yEftkBbES"
      },
      "source": [
        "## LogisticRegression Model"
      ]
    },
    {
      "cell_type": "code",
      "metadata": {
        "id": "ubJwfW6InPfw",
        "outputId": "54620c34-a271-4315-a3a8-50f0c7f6b29c",
        "colab": {
          "base_uri": "https://localhost:8080/"
        }
      },
      "source": [
        "clf = LogisticRegression(C=10, random_state=42)\n",
        "\n",
        "clf.fit(over_features, over_labels)\n",
        "\n",
        "preds = clf.predict(over_features)\n",
        "print('\\nAccuracy: {}\\nF1-score: {}\\n'.format(accuracy_score(preds, over_labels), f1_score(preds, over_labels, labels=[0, 1], pos_label=1)))"
      ],
      "execution_count": 22,
      "outputs": [
        {
          "output_type": "stream",
          "text": [
            "\n",
            "Accuracy: 0.9772362226530047\n",
            "F1-score: 0.9777042421612238\n",
            "\n"
          ],
          "name": "stdout"
        }
      ]
    },
    {
      "cell_type": "code",
      "metadata": {
        "id": "o-mgeIqeqhS-",
        "outputId": "8fad94ce-0e9f-485a-df75-8bd73230bc66",
        "colab": {
          "base_uri": "https://localhost:8080/",
          "height": 513
        }
      },
      "source": [
        "from plot_metric.functions import BinaryClassification\n",
        "import matplotlib.pyplot as plt\n",
        "\n",
        "bc = BinaryClassification(train_labels, clf.predict_proba(train_vector)[:, 1], labels=[0, 1])\n",
        "plt.figure(figsize=(16,8))\n",
        "bc.plot_roc_curve()\n",
        "plt.show()"
      ],
      "execution_count": null,
      "outputs": [
        {
          "output_type": "display_data",
          "data": {
            "image/png": "[encoded data removed]",
            "text/plain": [
              "<Figure size 1152x576 with 1 Axes>"
            ]
          },
          "metadata": {
            "tags": []
          }
        }
      ]
    },
    {
      "cell_type": "markdown",
      "metadata": {
        "id": "EwiVlHBfBjT7"
      },
      "source": [
        "## Support Vector Machine Model"
      ]
    },
    {
      "cell_type": "code",
      "metadata": {
        "id": "AjX20mza8sNs",
        "outputId": "c44e3e41-4511-443f-8d21-644f7286c75c",
        "colab": {
          "base_uri": "https://localhost:8080/"
        }
      },
      "source": [
        "sss = StratifiedShuffleSplit(n_splits=1, test_size=0.1, random_state=42)\n",
        "\n",
        "for train_idx, val_idx in sss.split(data_train, train_labels):\n",
        "  clf_pipeline = Pipeline([\n",
        "                        ('vectorize', TfidfVectorizer(use_idf=True)),\n",
        "                        ('clf', SVC(kernel='rbf', C = 10))\n",
        "  ])\n",
        "  clf_pipeline.fit(data_train[train_idx], train_labels[train_idx])\n",
        "\n",
        "  print(\"Y label for Training={}\\nY label for Validation={}\".format(sum(train_labels[train_idx] == 1), sum(train_labels[val_idx] == 1)))\n",
        "  preds = clf_pipeline.predict(data_train[train_idx])\n",
        "  print(\"=====Training set:\")\n",
        "  print('\\nAccuracy: {}\\nF1-score: {}\\n'.format(accuracy_score(preds, train_labels[train_idx]), f1_score(preds, train_labels[train_idx], labels=[0, 1], pos_label=1)))\n",
        "  \n",
        "  preds = clf_pipeline.predict(data_train[val_idx])\n",
        "  print(\"=====Validation set:\")\n",
        "  print('\\nAccuracy: {}\\nF1-score: {}\\n'.format(accuracy_score(preds, train_labels[val_idx]), f1_score(preds, train_labels[val_idx], labels=[0, 1], pos_label=1)))"
      ],
      "execution_count": 30,
      "outputs": [
        {
          "output_type": "stream",
          "text": [
            "Y label for Training=354\n",
            "Y label for Validation=39\n",
            "=====Training set:\n",
            "\n",
            "Accuracy: 0.9984340179485636\n",
            "F1-score: 0.9618768328445748\n",
            "\n",
            "=====Validation set:\n",
            "\n",
            "Accuracy: 0.9799457994579945\n",
            "F1-score: 0.13953488372093026\n",
            "\n"
          ],
          "name": "stdout"
        }
      ]
    },
    {
      "cell_type": "markdown",
      "metadata": {
        "id": "qq0yNfTSB5HY"
      },
      "source": [
        "## RandomForest Prediction"
      ]
    },
    {
      "cell_type": "code",
      "metadata": {
        "id": "XwKIY062bzeY",
        "outputId": "6e711207-ae70-4571-9559-6e7a7e27fa6b",
        "colab": {
          "base_uri": "https://localhost:8080/"
        }
      },
      "source": [
        "preds = rf.predict_proba(test_vector)[:, 1]\n",
        "\n",
        "np.where(preds >= 0.8)\n"
      ],
      "execution_count": 163,
      "outputs": [
        {
          "output_type": "execute_result",
          "data": {
            "text/plain": [
              "(array([2202]),)"
            ]
          },
          "metadata": {
            "tags": []
          },
          "execution_count": 163
        }
      ]
    },
    {
      "cell_type": "markdown",
      "metadata": {
        "id": "X8yOpiklCt1a"
      },
      "source": [
        "#### Write submission"
      ]
    },
    {
      "cell_type": "code",
      "metadata": {
        "id": "C1HE7fcAEWn2"
      },
      "source": [
        "with open('../conversation_data/submission.csv', 'w') as csv_file:\n",
        "  writer = csv.writer(csv_file)\n",
        "  writer.writerow(['num', 'label'])\n",
        "  pred_label = 1*(preds>=0.8)\n",
        "  for i, label in enumerate(pred_label):\n",
        "    writer.writerow([i + 1, 'Y' if label == 1 else 'N'])"
      ],
      "execution_count": 164,
      "outputs": []
    },
    {
      "cell_type": "markdown",
      "metadata": {
        "id": "XD245uhYjBa2"
      },
      "source": [
        "#### Save model"
      ]
    },
    {
      "cell_type": "code",
      "metadata": {
        "id": "7SsNoF0-UsQd"
      },
      "source": [
        "import pickle\n",
        "\n",
        "pickle.dump(rf, open('../conversation_data/model.pkl', 'wb'))\n",
        "pickle.dump(vectorize_q, open('../conversation_data/vectorize_q.pkl', 'wb'))\n",
        "pickle.dump(vectorize_a, open('../conversation_data/vectorize_a.pkl', 'wb'))"
      ],
      "execution_count": 171,
      "outputs": []
    },
    {
      "cell_type": "code",
      "metadata": {
        "id": "qgF_m8hSh93Y"
      },
      "source": [
        ""
      ],
      "execution_count": null,
      "outputs": []
    }
  ]
}